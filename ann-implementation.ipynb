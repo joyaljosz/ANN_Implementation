{
 "cells": [
  {
   "cell_type": "code",
   "execution_count": 1,
   "id": "89c66832",
   "metadata": {
    "_cell_guid": "b1076dfc-b9ad-4769-8c92-a6c4dae69d19",
    "_uuid": "8f2839f25d086af736a60e9eeb907d3b93b6e0e5",
    "execution": {
     "iopub.execute_input": "2023-08-08T07:59:57.940844Z",
     "iopub.status.busy": "2023-08-08T07:59:57.940427Z",
     "iopub.status.idle": "2023-08-08T07:59:57.961121Z",
     "shell.execute_reply": "2023-08-08T07:59:57.959436Z"
    },
    "papermill": {
     "duration": 0.037652,
     "end_time": "2023-08-08T07:59:57.963803",
     "exception": false,
     "start_time": "2023-08-08T07:59:57.926151",
     "status": "completed"
    },
    "tags": []
   },
   "outputs": [
    {
     "name": "stdout",
     "output_type": "stream",
     "text": [
      "/kaggle/input/churn-modelling/Churn_Modelling.csv\n"
     ]
    }
   ],
   "source": [
    "# This Python 3 environment comes with many helpful analytics libraries installed\n",
    "# It is defined by the kaggle/python Docker image: https://github.com/kaggle/docker-python\n",
    "# For example, here's several helpful packages to load\n",
    "\n",
    "import numpy as np # linear algebra\n",
    "import pandas as pd # data processing, CSV file I/O (e.g. pd.read_csv)\n",
    "\n",
    "# Input data files are available in the read-only \"../input/\" directory\n",
    "# For example, running this (by clicking run or pressing Shift+Enter) will list all files under the input directory\n",
    "\n",
    "import os\n",
    "for dirname, _, filenames in os.walk('/kaggle/input'):\n",
    "    for filename in filenames:\n",
    "        print(os.path.join(dirname, filename))\n",
    "\n",
    "# You can write up to 20GB to the current directory (/kaggle/working/) that gets preserved as output when you create a version using \"Save & Run All\" \n",
    "# You can also write temporary files to /kaggle/temp/, but they won't be saved outside of the current session"
   ]
  },
  {
   "cell_type": "code",
   "execution_count": 2,
   "id": "aaf29834",
   "metadata": {
    "execution": {
     "iopub.execute_input": "2023-08-08T07:59:57.991276Z",
     "iopub.status.busy": "2023-08-08T07:59:57.990876Z",
     "iopub.status.idle": "2023-08-08T07:59:57.995729Z",
     "shell.execute_reply": "2023-08-08T07:59:57.994436Z"
    },
    "papermill": {
     "duration": 0.021555,
     "end_time": "2023-08-08T07:59:57.997993",
     "exception": false,
     "start_time": "2023-08-08T07:59:57.976438",
     "status": "completed"
    },
    "tags": []
   },
   "outputs": [],
   "source": [
    "import matplotlib.pyplot as plt"
   ]
  },
  {
   "cell_type": "code",
   "execution_count": 3,
   "id": "3d6591e5",
   "metadata": {
    "execution": {
     "iopub.execute_input": "2023-08-08T07:59:58.025215Z",
     "iopub.status.busy": "2023-08-08T07:59:58.023959Z",
     "iopub.status.idle": "2023-08-08T07:59:58.087939Z",
     "shell.execute_reply": "2023-08-08T07:59:58.086288Z"
    },
    "papermill": {
     "duration": 0.080261,
     "end_time": "2023-08-08T07:59:58.090735",
     "exception": false,
     "start_time": "2023-08-08T07:59:58.010474",
     "status": "completed"
    },
    "tags": []
   },
   "outputs": [],
   "source": [
    "data= pd.read_csv('/kaggle/input/churn-modelling/Churn_Modelling.csv')"
   ]
  },
  {
   "cell_type": "code",
   "execution_count": 4,
   "id": "af5bec82",
   "metadata": {
    "execution": {
     "iopub.execute_input": "2023-08-08T07:59:58.117594Z",
     "iopub.status.busy": "2023-08-08T07:59:58.117194Z",
     "iopub.status.idle": "2023-08-08T07:59:58.159251Z",
     "shell.execute_reply": "2023-08-08T07:59:58.157849Z"
    },
    "papermill": {
     "duration": 0.058823,
     "end_time": "2023-08-08T07:59:58.161960",
     "exception": false,
     "start_time": "2023-08-08T07:59:58.103137",
     "status": "completed"
    },
    "tags": []
   },
   "outputs": [
    {
     "data": {
      "text/html": [
       "<div>\n",
       "<style scoped>\n",
       "    .dataframe tbody tr th:only-of-type {\n",
       "        vertical-align: middle;\n",
       "    }\n",
       "\n",
       "    .dataframe tbody tr th {\n",
       "        vertical-align: top;\n",
       "    }\n",
       "\n",
       "    .dataframe thead th {\n",
       "        text-align: right;\n",
       "    }\n",
       "</style>\n",
       "<table border=\"1\" class=\"dataframe\">\n",
       "  <thead>\n",
       "    <tr style=\"text-align: right;\">\n",
       "      <th></th>\n",
       "      <th>RowNumber</th>\n",
       "      <th>CustomerId</th>\n",
       "      <th>Surname</th>\n",
       "      <th>CreditScore</th>\n",
       "      <th>Geography</th>\n",
       "      <th>Gender</th>\n",
       "      <th>Age</th>\n",
       "      <th>Tenure</th>\n",
       "      <th>Balance</th>\n",
       "      <th>NumOfProducts</th>\n",
       "      <th>HasCrCard</th>\n",
       "      <th>IsActiveMember</th>\n",
       "      <th>EstimatedSalary</th>\n",
       "      <th>Exited</th>\n",
       "    </tr>\n",
       "  </thead>\n",
       "  <tbody>\n",
       "    <tr>\n",
       "      <th>0</th>\n",
       "      <td>1</td>\n",
       "      <td>15634602</td>\n",
       "      <td>Hargrave</td>\n",
       "      <td>619</td>\n",
       "      <td>France</td>\n",
       "      <td>Female</td>\n",
       "      <td>42</td>\n",
       "      <td>2</td>\n",
       "      <td>0.00</td>\n",
       "      <td>1</td>\n",
       "      <td>1</td>\n",
       "      <td>1</td>\n",
       "      <td>101348.88</td>\n",
       "      <td>1</td>\n",
       "    </tr>\n",
       "    <tr>\n",
       "      <th>1</th>\n",
       "      <td>2</td>\n",
       "      <td>15647311</td>\n",
       "      <td>Hill</td>\n",
       "      <td>608</td>\n",
       "      <td>Spain</td>\n",
       "      <td>Female</td>\n",
       "      <td>41</td>\n",
       "      <td>1</td>\n",
       "      <td>83807.86</td>\n",
       "      <td>1</td>\n",
       "      <td>0</td>\n",
       "      <td>1</td>\n",
       "      <td>112542.58</td>\n",
       "      <td>0</td>\n",
       "    </tr>\n",
       "    <tr>\n",
       "      <th>2</th>\n",
       "      <td>3</td>\n",
       "      <td>15619304</td>\n",
       "      <td>Onio</td>\n",
       "      <td>502</td>\n",
       "      <td>France</td>\n",
       "      <td>Female</td>\n",
       "      <td>42</td>\n",
       "      <td>8</td>\n",
       "      <td>159660.80</td>\n",
       "      <td>3</td>\n",
       "      <td>1</td>\n",
       "      <td>0</td>\n",
       "      <td>113931.57</td>\n",
       "      <td>1</td>\n",
       "    </tr>\n",
       "    <tr>\n",
       "      <th>3</th>\n",
       "      <td>4</td>\n",
       "      <td>15701354</td>\n",
       "      <td>Boni</td>\n",
       "      <td>699</td>\n",
       "      <td>France</td>\n",
       "      <td>Female</td>\n",
       "      <td>39</td>\n",
       "      <td>1</td>\n",
       "      <td>0.00</td>\n",
       "      <td>2</td>\n",
       "      <td>0</td>\n",
       "      <td>0</td>\n",
       "      <td>93826.63</td>\n",
       "      <td>0</td>\n",
       "    </tr>\n",
       "    <tr>\n",
       "      <th>4</th>\n",
       "      <td>5</td>\n",
       "      <td>15737888</td>\n",
       "      <td>Mitchell</td>\n",
       "      <td>850</td>\n",
       "      <td>Spain</td>\n",
       "      <td>Female</td>\n",
       "      <td>43</td>\n",
       "      <td>2</td>\n",
       "      <td>125510.82</td>\n",
       "      <td>1</td>\n",
       "      <td>1</td>\n",
       "      <td>1</td>\n",
       "      <td>79084.10</td>\n",
       "      <td>0</td>\n",
       "    </tr>\n",
       "    <tr>\n",
       "      <th>...</th>\n",
       "      <td>...</td>\n",
       "      <td>...</td>\n",
       "      <td>...</td>\n",
       "      <td>...</td>\n",
       "      <td>...</td>\n",
       "      <td>...</td>\n",
       "      <td>...</td>\n",
       "      <td>...</td>\n",
       "      <td>...</td>\n",
       "      <td>...</td>\n",
       "      <td>...</td>\n",
       "      <td>...</td>\n",
       "      <td>...</td>\n",
       "      <td>...</td>\n",
       "    </tr>\n",
       "    <tr>\n",
       "      <th>9995</th>\n",
       "      <td>9996</td>\n",
       "      <td>15606229</td>\n",
       "      <td>Obijiaku</td>\n",
       "      <td>771</td>\n",
       "      <td>France</td>\n",
       "      <td>Male</td>\n",
       "      <td>39</td>\n",
       "      <td>5</td>\n",
       "      <td>0.00</td>\n",
       "      <td>2</td>\n",
       "      <td>1</td>\n",
       "      <td>0</td>\n",
       "      <td>96270.64</td>\n",
       "      <td>0</td>\n",
       "    </tr>\n",
       "    <tr>\n",
       "      <th>9996</th>\n",
       "      <td>9997</td>\n",
       "      <td>15569892</td>\n",
       "      <td>Johnstone</td>\n",
       "      <td>516</td>\n",
       "      <td>France</td>\n",
       "      <td>Male</td>\n",
       "      <td>35</td>\n",
       "      <td>10</td>\n",
       "      <td>57369.61</td>\n",
       "      <td>1</td>\n",
       "      <td>1</td>\n",
       "      <td>1</td>\n",
       "      <td>101699.77</td>\n",
       "      <td>0</td>\n",
       "    </tr>\n",
       "    <tr>\n",
       "      <th>9997</th>\n",
       "      <td>9998</td>\n",
       "      <td>15584532</td>\n",
       "      <td>Liu</td>\n",
       "      <td>709</td>\n",
       "      <td>France</td>\n",
       "      <td>Female</td>\n",
       "      <td>36</td>\n",
       "      <td>7</td>\n",
       "      <td>0.00</td>\n",
       "      <td>1</td>\n",
       "      <td>0</td>\n",
       "      <td>1</td>\n",
       "      <td>42085.58</td>\n",
       "      <td>1</td>\n",
       "    </tr>\n",
       "    <tr>\n",
       "      <th>9998</th>\n",
       "      <td>9999</td>\n",
       "      <td>15682355</td>\n",
       "      <td>Sabbatini</td>\n",
       "      <td>772</td>\n",
       "      <td>Germany</td>\n",
       "      <td>Male</td>\n",
       "      <td>42</td>\n",
       "      <td>3</td>\n",
       "      <td>75075.31</td>\n",
       "      <td>2</td>\n",
       "      <td>1</td>\n",
       "      <td>0</td>\n",
       "      <td>92888.52</td>\n",
       "      <td>1</td>\n",
       "    </tr>\n",
       "    <tr>\n",
       "      <th>9999</th>\n",
       "      <td>10000</td>\n",
       "      <td>15628319</td>\n",
       "      <td>Walker</td>\n",
       "      <td>792</td>\n",
       "      <td>France</td>\n",
       "      <td>Female</td>\n",
       "      <td>28</td>\n",
       "      <td>4</td>\n",
       "      <td>130142.79</td>\n",
       "      <td>1</td>\n",
       "      <td>1</td>\n",
       "      <td>0</td>\n",
       "      <td>38190.78</td>\n",
       "      <td>0</td>\n",
       "    </tr>\n",
       "  </tbody>\n",
       "</table>\n",
       "<p>10000 rows × 14 columns</p>\n",
       "</div>"
      ],
      "text/plain": [
       "      RowNumber  CustomerId    Surname  CreditScore Geography  Gender  Age  \\\n",
       "0             1    15634602   Hargrave          619    France  Female   42   \n",
       "1             2    15647311       Hill          608     Spain  Female   41   \n",
       "2             3    15619304       Onio          502    France  Female   42   \n",
       "3             4    15701354       Boni          699    France  Female   39   \n",
       "4             5    15737888   Mitchell          850     Spain  Female   43   \n",
       "...         ...         ...        ...          ...       ...     ...  ...   \n",
       "9995       9996    15606229   Obijiaku          771    France    Male   39   \n",
       "9996       9997    15569892  Johnstone          516    France    Male   35   \n",
       "9997       9998    15584532        Liu          709    France  Female   36   \n",
       "9998       9999    15682355  Sabbatini          772   Germany    Male   42   \n",
       "9999      10000    15628319     Walker          792    France  Female   28   \n",
       "\n",
       "      Tenure    Balance  NumOfProducts  HasCrCard  IsActiveMember  \\\n",
       "0          2       0.00              1          1               1   \n",
       "1          1   83807.86              1          0               1   \n",
       "2          8  159660.80              3          1               0   \n",
       "3          1       0.00              2          0               0   \n",
       "4          2  125510.82              1          1               1   \n",
       "...      ...        ...            ...        ...             ...   \n",
       "9995       5       0.00              2          1               0   \n",
       "9996      10   57369.61              1          1               1   \n",
       "9997       7       0.00              1          0               1   \n",
       "9998       3   75075.31              2          1               0   \n",
       "9999       4  130142.79              1          1               0   \n",
       "\n",
       "      EstimatedSalary  Exited  \n",
       "0           101348.88       1  \n",
       "1           112542.58       0  \n",
       "2           113931.57       1  \n",
       "3            93826.63       0  \n",
       "4            79084.10       0  \n",
       "...               ...     ...  \n",
       "9995         96270.64       0  \n",
       "9996        101699.77       0  \n",
       "9997         42085.58       1  \n",
       "9998         92888.52       1  \n",
       "9999         38190.78       0  \n",
       "\n",
       "[10000 rows x 14 columns]"
      ]
     },
     "execution_count": 4,
     "metadata": {},
     "output_type": "execute_result"
    }
   ],
   "source": [
    "data"
   ]
  },
  {
   "cell_type": "markdown",
   "id": "48500b52",
   "metadata": {
    "papermill": {
     "duration": 0.012787,
     "end_time": "2023-08-08T07:59:58.189317",
     "exception": false,
     "start_time": "2023-08-08T07:59:58.176530",
     "status": "completed"
    },
    "tags": []
   },
   "source": [
    "Splitting data into dependent and independent"
   ]
  },
  {
   "cell_type": "code",
   "execution_count": 5,
   "id": "9742be61",
   "metadata": {
    "execution": {
     "iopub.execute_input": "2023-08-08T07:59:58.219350Z",
     "iopub.status.busy": "2023-08-08T07:59:58.218917Z",
     "iopub.status.idle": "2023-08-08T07:59:58.229713Z",
     "shell.execute_reply": "2023-08-08T07:59:58.228525Z"
    },
    "papermill": {
     "duration": 0.029049,
     "end_time": "2023-08-08T07:59:58.232456",
     "exception": false,
     "start_time": "2023-08-08T07:59:58.203407",
     "status": "completed"
    },
    "tags": []
   },
   "outputs": [],
   "source": [
    "x=data.iloc[:,3:13].values\n",
    "y=data.iloc[:,13].values"
   ]
  },
  {
   "cell_type": "code",
   "execution_count": 6,
   "id": "d531bb01",
   "metadata": {
    "execution": {
     "iopub.execute_input": "2023-08-08T07:59:58.260221Z",
     "iopub.status.busy": "2023-08-08T07:59:58.259810Z",
     "iopub.status.idle": "2023-08-08T07:59:58.266355Z",
     "shell.execute_reply": "2023-08-08T07:59:58.265075Z"
    },
    "papermill": {
     "duration": 0.023439,
     "end_time": "2023-08-08T07:59:58.268766",
     "exception": false,
     "start_time": "2023-08-08T07:59:58.245327",
     "status": "completed"
    },
    "tags": []
   },
   "outputs": [
    {
     "name": "stdout",
     "output_type": "stream",
     "text": [
      "[[619 'France' 'Female' ... 1 1 101348.88]\n",
      " [608 'Spain' 'Female' ... 0 1 112542.58]\n",
      " [502 'France' 'Female' ... 1 0 113931.57]\n",
      " ...\n",
      " [709 'France' 'Female' ... 0 1 42085.58]\n",
      " [772 'Germany' 'Male' ... 1 0 92888.52]\n",
      " [792 'France' 'Female' ... 1 0 38190.78]]\n"
     ]
    }
   ],
   "source": [
    "print(x)"
   ]
  },
  {
   "cell_type": "code",
   "execution_count": 7,
   "id": "e77bfb76",
   "metadata": {
    "execution": {
     "iopub.execute_input": "2023-08-08T07:59:58.297423Z",
     "iopub.status.busy": "2023-08-08T07:59:58.297028Z",
     "iopub.status.idle": "2023-08-08T07:59:58.302690Z",
     "shell.execute_reply": "2023-08-08T07:59:58.301369Z"
    },
    "papermill": {
     "duration": 0.022706,
     "end_time": "2023-08-08T07:59:58.304945",
     "exception": false,
     "start_time": "2023-08-08T07:59:58.282239",
     "status": "completed"
    },
    "tags": []
   },
   "outputs": [
    {
     "name": "stdout",
     "output_type": "stream",
     "text": [
      "[1 0 1 ... 1 1 0]\n"
     ]
    }
   ],
   "source": [
    "print(y)"
   ]
  },
  {
   "cell_type": "markdown",
   "id": "a26eaf7e",
   "metadata": {
    "papermill": {
     "duration": 0.013215,
     "end_time": "2023-08-08T07:59:58.331349",
     "exception": false,
     "start_time": "2023-08-08T07:59:58.318134",
     "status": "completed"
    },
    "tags": []
   },
   "source": [
    "Label Encoding- converting into categorical data\n",
    "****"
   ]
  },
  {
   "cell_type": "code",
   "execution_count": 8,
   "id": "ef89b861",
   "metadata": {
    "execution": {
     "iopub.execute_input": "2023-08-08T07:59:58.359642Z",
     "iopub.status.busy": "2023-08-08T07:59:58.359192Z",
     "iopub.status.idle": "2023-08-08T07:59:59.676498Z",
     "shell.execute_reply": "2023-08-08T07:59:59.675265Z"
    },
    "papermill": {
     "duration": 1.334834,
     "end_time": "2023-08-08T07:59:59.679170",
     "exception": false,
     "start_time": "2023-08-08T07:59:58.344336",
     "status": "completed"
    },
    "tags": []
   },
   "outputs": [
    {
     "name": "stderr",
     "output_type": "stream",
     "text": [
      "/opt/conda/lib/python3.10/site-packages/scipy/__init__.py:146: UserWarning: A NumPy version >=1.16.5 and <1.23.0 is required for this version of SciPy (detected version 1.23.5\n",
      "  warnings.warn(f\"A NumPy version >={np_minversion} and <{np_maxversion}\"\n"
     ]
    }
   ],
   "source": [
    "from sklearn.preprocessing import LabelEncoder, OneHotEncoder"
   ]
  },
  {
   "cell_type": "code",
   "execution_count": 9,
   "id": "45ee93cc",
   "metadata": {
    "execution": {
     "iopub.execute_input": "2023-08-08T07:59:59.707729Z",
     "iopub.status.busy": "2023-08-08T07:59:59.707297Z",
     "iopub.status.idle": "2023-08-08T07:59:59.712308Z",
     "shell.execute_reply": "2023-08-08T07:59:59.711215Z"
    },
    "papermill": {
     "duration": 0.022291,
     "end_time": "2023-08-08T07:59:59.714716",
     "exception": false,
     "start_time": "2023-08-08T07:59:59.692425",
     "status": "completed"
    },
    "tags": []
   },
   "outputs": [],
   "source": [
    "label= LabelEncoder()"
   ]
  },
  {
   "cell_type": "code",
   "execution_count": 10,
   "id": "5e20e744",
   "metadata": {
    "execution": {
     "iopub.execute_input": "2023-08-08T07:59:59.744577Z",
     "iopub.status.busy": "2023-08-08T07:59:59.744168Z",
     "iopub.status.idle": "2023-08-08T07:59:59.756693Z",
     "shell.execute_reply": "2023-08-08T07:59:59.755287Z"
    },
    "papermill": {
     "duration": 0.030141,
     "end_time": "2023-08-08T07:59:59.759879",
     "exception": false,
     "start_time": "2023-08-08T07:59:59.729738",
     "status": "completed"
    },
    "tags": []
   },
   "outputs": [],
   "source": [
    "x[:,2]=label.fit_transform(x[:,2])"
   ]
  },
  {
   "cell_type": "code",
   "execution_count": 11,
   "id": "69c42ce3",
   "metadata": {
    "execution": {
     "iopub.execute_input": "2023-08-08T07:59:59.789136Z",
     "iopub.status.busy": "2023-08-08T07:59:59.788697Z",
     "iopub.status.idle": "2023-08-08T07:59:59.795415Z",
     "shell.execute_reply": "2023-08-08T07:59:59.794024Z"
    },
    "papermill": {
     "duration": 0.023944,
     "end_time": "2023-08-08T07:59:59.798065",
     "exception": false,
     "start_time": "2023-08-08T07:59:59.774121",
     "status": "completed"
    },
    "tags": []
   },
   "outputs": [
    {
     "name": "stdout",
     "output_type": "stream",
     "text": [
      "[[619 'France' 0 ... 1 1 101348.88]\n",
      " [608 'Spain' 0 ... 0 1 112542.58]\n",
      " [502 'France' 0 ... 1 0 113931.57]\n",
      " ...\n",
      " [709 'France' 0 ... 0 1 42085.58]\n",
      " [772 'Germany' 1 ... 1 0 92888.52]\n",
      " [792 'France' 0 ... 1 0 38190.78]]\n"
     ]
    }
   ],
   "source": [
    "print(x)"
   ]
  },
  {
   "cell_type": "markdown",
   "id": "6e16ab98",
   "metadata": {
    "papermill": {
     "duration": 0.012851,
     "end_time": "2023-08-08T07:59:59.824196",
     "exception": false,
     "start_time": "2023-08-08T07:59:59.811345",
     "status": "completed"
    },
    "tags": []
   },
   "source": [
    "using onehot encoding"
   ]
  },
  {
   "cell_type": "code",
   "execution_count": 12,
   "id": "2b516a66",
   "metadata": {
    "execution": {
     "iopub.execute_input": "2023-08-08T07:59:59.854188Z",
     "iopub.status.busy": "2023-08-08T07:59:59.853397Z",
     "iopub.status.idle": "2023-08-08T07:59:59.887527Z",
     "shell.execute_reply": "2023-08-08T07:59:59.885883Z"
    },
    "papermill": {
     "duration": 0.053035,
     "end_time": "2023-08-08T07:59:59.890588",
     "exception": false,
     "start_time": "2023-08-08T07:59:59.837553",
     "status": "completed"
    },
    "tags": []
   },
   "outputs": [],
   "source": [
    "from sklearn.compose import ColumnTransformer"
   ]
  },
  {
   "cell_type": "code",
   "execution_count": 13,
   "id": "b71a107b",
   "metadata": {
    "execution": {
     "iopub.execute_input": "2023-08-08T07:59:59.920991Z",
     "iopub.status.busy": "2023-08-08T07:59:59.920570Z",
     "iopub.status.idle": "2023-08-08T07:59:59.925830Z",
     "shell.execute_reply": "2023-08-08T07:59:59.924480Z"
    },
    "papermill": {
     "duration": 0.023036,
     "end_time": "2023-08-08T07:59:59.928182",
     "exception": false,
     "start_time": "2023-08-08T07:59:59.905146",
     "status": "completed"
    },
    "tags": []
   },
   "outputs": [],
   "source": [
    "ct=ColumnTransformer([('ohe',OneHotEncoder(),[1])],remainder='passthrough')"
   ]
  },
  {
   "cell_type": "code",
   "execution_count": 14,
   "id": "6e1cb6be",
   "metadata": {
    "execution": {
     "iopub.execute_input": "2023-08-08T07:59:59.956664Z",
     "iopub.status.busy": "2023-08-08T07:59:59.956193Z",
     "iopub.status.idle": "2023-08-08T08:00:00.072626Z",
     "shell.execute_reply": "2023-08-08T08:00:00.071379Z"
    },
    "papermill": {
     "duration": 0.134069,
     "end_time": "2023-08-08T08:00:00.075517",
     "exception": false,
     "start_time": "2023-08-08T07:59:59.941448",
     "status": "completed"
    },
    "tags": []
   },
   "outputs": [
    {
     "name": "stderr",
     "output_type": "stream",
     "text": [
      "/tmp/ipykernel_20/3206333834.py:1: DeprecationWarning: `np.str` is a deprecated alias for the builtin `str`. To silence this warning, use `str` by itself. Doing this will not modify any behavior and is safe. If you specifically wanted the numpy scalar type, use `np.str_` here.\n",
      "Deprecated in NumPy 1.20; for more details and guidance: https://numpy.org/devdocs/release/1.20.0-notes.html#deprecations\n",
      "  x=np.array(ct.fit_transform(x),dtype=np.str)\n"
     ]
    }
   ],
   "source": [
    "x=np.array(ct.fit_transform(x),dtype=np.str)"
   ]
  },
  {
   "cell_type": "code",
   "execution_count": 15,
   "id": "4b86166e",
   "metadata": {
    "execution": {
     "iopub.execute_input": "2023-08-08T08:00:00.105628Z",
     "iopub.status.busy": "2023-08-08T08:00:00.105188Z",
     "iopub.status.idle": "2023-08-08T08:00:00.110167Z",
     "shell.execute_reply": "2023-08-08T08:00:00.109235Z"
    },
    "papermill": {
     "duration": 0.022742,
     "end_time": "2023-08-08T08:00:00.112524",
     "exception": false,
     "start_time": "2023-08-08T08:00:00.089782",
     "status": "completed"
    },
    "tags": []
   },
   "outputs": [],
   "source": [
    "x=x[:,1:]"
   ]
  },
  {
   "cell_type": "code",
   "execution_count": 16,
   "id": "0d53e98c",
   "metadata": {
    "execution": {
     "iopub.execute_input": "2023-08-08T08:00:00.142591Z",
     "iopub.status.busy": "2023-08-08T08:00:00.141926Z",
     "iopub.status.idle": "2023-08-08T08:00:00.151070Z",
     "shell.execute_reply": "2023-08-08T08:00:00.149174Z"
    },
    "papermill": {
     "duration": 0.027465,
     "end_time": "2023-08-08T08:00:00.154586",
     "exception": false,
     "start_time": "2023-08-08T08:00:00.127121",
     "status": "completed"
    },
    "tags": []
   },
   "outputs": [
    {
     "name": "stdout",
     "output_type": "stream",
     "text": [
      "[['0.0' '0.0' '619' ... '1' '1' '101348.88']\n",
      " ['0.0' '1.0' '608' ... '0' '1' '112542.58']\n",
      " ['0.0' '0.0' '502' ... '1' '0' '113931.57']\n",
      " ...\n",
      " ['0.0' '0.0' '709' ... '0' '1' '42085.58']\n",
      " ['1.0' '0.0' '772' ... '1' '0' '92888.52']\n",
      " ['0.0' '0.0' '792' ... '1' '0' '38190.78']]\n"
     ]
    }
   ],
   "source": [
    "print(x)"
   ]
  },
  {
   "cell_type": "code",
   "execution_count": 17,
   "id": "b7a011e7",
   "metadata": {
    "execution": {
     "iopub.execute_input": "2023-08-08T08:00:00.190695Z",
     "iopub.status.busy": "2023-08-08T08:00:00.190269Z",
     "iopub.status.idle": "2023-08-08T08:00:00.375483Z",
     "shell.execute_reply": "2023-08-08T08:00:00.373802Z"
    },
    "papermill": {
     "duration": 0.207392,
     "end_time": "2023-08-08T08:00:00.378970",
     "exception": false,
     "start_time": "2023-08-08T08:00:00.171578",
     "status": "completed"
    },
    "tags": []
   },
   "outputs": [],
   "source": [
    "from sklearn.model_selection import train_test_split\n"
   ]
  },
  {
   "cell_type": "code",
   "execution_count": 18,
   "id": "653c413b",
   "metadata": {
    "execution": {
     "iopub.execute_input": "2023-08-08T08:00:00.412506Z",
     "iopub.status.busy": "2023-08-08T08:00:00.410590Z",
     "iopub.status.idle": "2023-08-08T08:00:00.427559Z",
     "shell.execute_reply": "2023-08-08T08:00:00.425184Z"
    },
    "papermill": {
     "duration": 0.036724,
     "end_time": "2023-08-08T08:00:00.430919",
     "exception": false,
     "start_time": "2023-08-08T08:00:00.394195",
     "status": "completed"
    },
    "tags": []
   },
   "outputs": [],
   "source": [
    "x_train, x_test, y_train, y_test = train_test_split(x,y, test_size = 0.2, random_state=0)"
   ]
  },
  {
   "cell_type": "code",
   "execution_count": 19,
   "id": "e70e8ad7",
   "metadata": {
    "execution": {
     "iopub.execute_input": "2023-08-08T08:00:00.461624Z",
     "iopub.status.busy": "2023-08-08T08:00:00.461207Z",
     "iopub.status.idle": "2023-08-08T08:00:00.467275Z",
     "shell.execute_reply": "2023-08-08T08:00:00.465643Z"
    },
    "papermill": {
     "duration": 0.025256,
     "end_time": "2023-08-08T08:00:00.469977",
     "exception": false,
     "start_time": "2023-08-08T08:00:00.444721",
     "status": "completed"
    },
    "tags": []
   },
   "outputs": [],
   "source": [
    "from sklearn.preprocessing import StandardScaler"
   ]
  },
  {
   "cell_type": "code",
   "execution_count": 20,
   "id": "c368b637",
   "metadata": {
    "execution": {
     "iopub.execute_input": "2023-08-08T08:00:00.502293Z",
     "iopub.status.busy": "2023-08-08T08:00:00.501778Z",
     "iopub.status.idle": "2023-08-08T08:00:00.507880Z",
     "shell.execute_reply": "2023-08-08T08:00:00.506194Z"
    },
    "papermill": {
     "duration": 0.024782,
     "end_time": "2023-08-08T08:00:00.510444",
     "exception": false,
     "start_time": "2023-08-08T08:00:00.485662",
     "status": "completed"
    },
    "tags": []
   },
   "outputs": [],
   "source": [
    "sc=StandardScaler()"
   ]
  },
  {
   "cell_type": "code",
   "execution_count": 21,
   "id": "6dfa0167",
   "metadata": {
    "execution": {
     "iopub.execute_input": "2023-08-08T08:00:00.539489Z",
     "iopub.status.busy": "2023-08-08T08:00:00.539005Z",
     "iopub.status.idle": "2023-08-08T08:00:00.701275Z",
     "shell.execute_reply": "2023-08-08T08:00:00.699467Z"
    },
    "papermill": {
     "duration": 0.179881,
     "end_time": "2023-08-08T08:00:00.704019",
     "exception": false,
     "start_time": "2023-08-08T08:00:00.524138",
     "status": "completed"
    },
    "tags": []
   },
   "outputs": [],
   "source": [
    "x_train=sc.fit_transform(x_train)\n",
    "x_test=sc.fit_transform(x_test)"
   ]
  },
  {
   "cell_type": "code",
   "execution_count": 22,
   "id": "c861d7d1",
   "metadata": {
    "execution": {
     "iopub.execute_input": "2023-08-08T08:00:00.735643Z",
     "iopub.status.busy": "2023-08-08T08:00:00.735244Z",
     "iopub.status.idle": "2023-08-08T08:00:00.744845Z",
     "shell.execute_reply": "2023-08-08T08:00:00.743586Z"
    },
    "papermill": {
     "duration": 0.030147,
     "end_time": "2023-08-08T08:00:00.747708",
     "exception": false,
     "start_time": "2023-08-08T08:00:00.717561",
     "status": "completed"
    },
    "tags": []
   },
   "outputs": [
    {
     "name": "stdout",
     "output_type": "stream",
     "text": [
      "[[-0.5698444   1.74309049  0.16958176 ...  0.64259497 -1.03227043\n",
      "   1.10643166]\n",
      " [ 1.75486502 -0.57369368 -2.30455945 ...  0.64259497  0.9687384\n",
      "  -0.74866447]\n",
      " [-0.5698444  -0.57369368 -1.19119591 ...  0.64259497 -1.03227043\n",
      "   1.48533467]\n",
      " ...\n",
      " [-0.5698444  -0.57369368  0.9015152  ...  0.64259497 -1.03227043\n",
      "   1.41231994]\n",
      " [-0.5698444   1.74309049 -0.62420521 ...  0.64259497  0.9687384\n",
      "   0.84432121]\n",
      " [ 1.75486502 -0.57369368 -0.28401079 ...  0.64259497 -1.03227043\n",
      "   0.32472465]]\n"
     ]
    }
   ],
   "source": [
    "print(x_train)"
   ]
  },
  {
   "cell_type": "code",
   "execution_count": 23,
   "id": "7fd4a266",
   "metadata": {
    "execution": {
     "iopub.execute_input": "2023-08-08T08:00:00.778014Z",
     "iopub.status.busy": "2023-08-08T08:00:00.777613Z",
     "iopub.status.idle": "2023-08-08T08:00:00.804077Z",
     "shell.execute_reply": "2023-08-08T08:00:00.802725Z"
    },
    "papermill": {
     "duration": 0.04544,
     "end_time": "2023-08-08T08:00:00.806816",
     "exception": false,
     "start_time": "2023-08-08T08:00:00.761376",
     "status": "completed"
    },
    "tags": []
   },
   "outputs": [
    {
     "data": {
      "text/html": [
       "<div>\n",
       "<style scoped>\n",
       "    .dataframe tbody tr th:only-of-type {\n",
       "        vertical-align: middle;\n",
       "    }\n",
       "\n",
       "    .dataframe tbody tr th {\n",
       "        vertical-align: top;\n",
       "    }\n",
       "\n",
       "    .dataframe thead th {\n",
       "        text-align: right;\n",
       "    }\n",
       "</style>\n",
       "<table border=\"1\" class=\"dataframe\">\n",
       "  <thead>\n",
       "    <tr style=\"text-align: right;\">\n",
       "      <th></th>\n",
       "      <th>0</th>\n",
       "      <th>1</th>\n",
       "      <th>2</th>\n",
       "      <th>3</th>\n",
       "      <th>4</th>\n",
       "      <th>5</th>\n",
       "      <th>6</th>\n",
       "      <th>7</th>\n",
       "      <th>8</th>\n",
       "      <th>9</th>\n",
       "      <th>10</th>\n",
       "    </tr>\n",
       "  </thead>\n",
       "  <tbody>\n",
       "    <tr>\n",
       "      <th>0</th>\n",
       "      <td>-0.569844</td>\n",
       "      <td>1.743090</td>\n",
       "      <td>0.169582</td>\n",
       "      <td>-1.091687</td>\n",
       "      <td>-0.464608</td>\n",
       "      <td>0.006661</td>\n",
       "      <td>-1.215717</td>\n",
       "      <td>0.809503</td>\n",
       "      <td>0.642595</td>\n",
       "      <td>-1.032270</td>\n",
       "      <td>1.106432</td>\n",
       "    </tr>\n",
       "    <tr>\n",
       "      <th>1</th>\n",
       "      <td>1.754865</td>\n",
       "      <td>-0.573694</td>\n",
       "      <td>-2.304559</td>\n",
       "      <td>0.916013</td>\n",
       "      <td>0.301026</td>\n",
       "      <td>-1.377440</td>\n",
       "      <td>-0.006312</td>\n",
       "      <td>-0.921591</td>\n",
       "      <td>0.642595</td>\n",
       "      <td>0.968738</td>\n",
       "      <td>-0.748664</td>\n",
       "    </tr>\n",
       "    <tr>\n",
       "      <th>2</th>\n",
       "      <td>-0.569844</td>\n",
       "      <td>-0.573694</td>\n",
       "      <td>-1.191196</td>\n",
       "      <td>-1.091687</td>\n",
       "      <td>-0.943129</td>\n",
       "      <td>-1.031415</td>\n",
       "      <td>0.579935</td>\n",
       "      <td>-0.921591</td>\n",
       "      <td>0.642595</td>\n",
       "      <td>-1.032270</td>\n",
       "      <td>1.485335</td>\n",
       "    </tr>\n",
       "    <tr>\n",
       "      <th>3</th>\n",
       "      <td>-0.569844</td>\n",
       "      <td>1.743090</td>\n",
       "      <td>0.035566</td>\n",
       "      <td>0.916013</td>\n",
       "      <td>0.109617</td>\n",
       "      <td>0.006661</td>\n",
       "      <td>0.473128</td>\n",
       "      <td>-0.921591</td>\n",
       "      <td>0.642595</td>\n",
       "      <td>-1.032270</td>\n",
       "      <td>1.276528</td>\n",
       "    </tr>\n",
       "    <tr>\n",
       "      <th>4</th>\n",
       "      <td>-0.569844</td>\n",
       "      <td>1.743090</td>\n",
       "      <td>2.056114</td>\n",
       "      <td>-1.091687</td>\n",
       "      <td>1.736588</td>\n",
       "      <td>1.044737</td>\n",
       "      <td>0.810193</td>\n",
       "      <td>0.809503</td>\n",
       "      <td>0.642595</td>\n",
       "      <td>0.968738</td>\n",
       "      <td>0.558378</td>\n",
       "    </tr>\n",
       "    <tr>\n",
       "      <th>...</th>\n",
       "      <td>...</td>\n",
       "      <td>...</td>\n",
       "      <td>...</td>\n",
       "      <td>...</td>\n",
       "      <td>...</td>\n",
       "      <td>...</td>\n",
       "      <td>...</td>\n",
       "      <td>...</td>\n",
       "      <td>...</td>\n",
       "      <td>...</td>\n",
       "      <td>...</td>\n",
       "    </tr>\n",
       "    <tr>\n",
       "      <th>7995</th>\n",
       "      <td>1.754865</td>\n",
       "      <td>-0.573694</td>\n",
       "      <td>-0.582970</td>\n",
       "      <td>-1.091687</td>\n",
       "      <td>-0.656016</td>\n",
       "      <td>-0.339364</td>\n",
       "      <td>0.703104</td>\n",
       "      <td>0.809503</td>\n",
       "      <td>0.642595</td>\n",
       "      <td>0.968738</td>\n",
       "      <td>1.091330</td>\n",
       "    </tr>\n",
       "    <tr>\n",
       "      <th>7996</th>\n",
       "      <td>-0.569844</td>\n",
       "      <td>1.743090</td>\n",
       "      <td>1.478815</td>\n",
       "      <td>-1.091687</td>\n",
       "      <td>-1.613058</td>\n",
       "      <td>-0.339364</td>\n",
       "      <td>0.613060</td>\n",
       "      <td>-0.921591</td>\n",
       "      <td>0.642595</td>\n",
       "      <td>0.968738</td>\n",
       "      <td>0.131760</td>\n",
       "    </tr>\n",
       "    <tr>\n",
       "      <th>7997</th>\n",
       "      <td>-0.569844</td>\n",
       "      <td>-0.573694</td>\n",
       "      <td>0.901515</td>\n",
       "      <td>0.916013</td>\n",
       "      <td>-0.368904</td>\n",
       "      <td>0.006661</td>\n",
       "      <td>1.361474</td>\n",
       "      <td>0.809503</td>\n",
       "      <td>0.642595</td>\n",
       "      <td>-1.032270</td>\n",
       "      <td>1.412320</td>\n",
       "    </tr>\n",
       "    <tr>\n",
       "      <th>7998</th>\n",
       "      <td>-0.569844</td>\n",
       "      <td>1.743090</td>\n",
       "      <td>-0.624205</td>\n",
       "      <td>-1.091687</td>\n",
       "      <td>-0.081791</td>\n",
       "      <td>1.390762</td>\n",
       "      <td>-1.215717</td>\n",
       "      <td>0.809503</td>\n",
       "      <td>0.642595</td>\n",
       "      <td>0.968738</td>\n",
       "      <td>0.844321</td>\n",
       "    </tr>\n",
       "    <tr>\n",
       "      <th>7999</th>\n",
       "      <td>1.754865</td>\n",
       "      <td>-0.573694</td>\n",
       "      <td>-0.284011</td>\n",
       "      <td>-1.091687</td>\n",
       "      <td>0.875251</td>\n",
       "      <td>-1.377440</td>\n",
       "      <td>0.511364</td>\n",
       "      <td>-0.921591</td>\n",
       "      <td>0.642595</td>\n",
       "      <td>-1.032270</td>\n",
       "      <td>0.324725</td>\n",
       "    </tr>\n",
       "  </tbody>\n",
       "</table>\n",
       "<p>8000 rows × 11 columns</p>\n",
       "</div>"
      ],
      "text/plain": [
       "            0         1         2         3         4         5         6   \\\n",
       "0    -0.569844  1.743090  0.169582 -1.091687 -0.464608  0.006661 -1.215717   \n",
       "1     1.754865 -0.573694 -2.304559  0.916013  0.301026 -1.377440 -0.006312   \n",
       "2    -0.569844 -0.573694 -1.191196 -1.091687 -0.943129 -1.031415  0.579935   \n",
       "3    -0.569844  1.743090  0.035566  0.916013  0.109617  0.006661  0.473128   \n",
       "4    -0.569844  1.743090  2.056114 -1.091687  1.736588  1.044737  0.810193   \n",
       "...        ...       ...       ...       ...       ...       ...       ...   \n",
       "7995  1.754865 -0.573694 -0.582970 -1.091687 -0.656016 -0.339364  0.703104   \n",
       "7996 -0.569844  1.743090  1.478815 -1.091687 -1.613058 -0.339364  0.613060   \n",
       "7997 -0.569844 -0.573694  0.901515  0.916013 -0.368904  0.006661  1.361474   \n",
       "7998 -0.569844  1.743090 -0.624205 -1.091687 -0.081791  1.390762 -1.215717   \n",
       "7999  1.754865 -0.573694 -0.284011 -1.091687  0.875251 -1.377440  0.511364   \n",
       "\n",
       "            7         8         9         10  \n",
       "0     0.809503  0.642595 -1.032270  1.106432  \n",
       "1    -0.921591  0.642595  0.968738 -0.748664  \n",
       "2    -0.921591  0.642595 -1.032270  1.485335  \n",
       "3    -0.921591  0.642595 -1.032270  1.276528  \n",
       "4     0.809503  0.642595  0.968738  0.558378  \n",
       "...        ...       ...       ...       ...  \n",
       "7995  0.809503  0.642595  0.968738  1.091330  \n",
       "7996 -0.921591  0.642595  0.968738  0.131760  \n",
       "7997  0.809503  0.642595 -1.032270  1.412320  \n",
       "7998  0.809503  0.642595  0.968738  0.844321  \n",
       "7999 -0.921591  0.642595 -1.032270  0.324725  \n",
       "\n",
       "[8000 rows x 11 columns]"
      ]
     },
     "execution_count": 23,
     "metadata": {},
     "output_type": "execute_result"
    }
   ],
   "source": [
    "pd.DataFrame(x_train)"
   ]
  },
  {
   "cell_type": "markdown",
   "id": "97e0827d",
   "metadata": {
    "papermill": {
     "duration": 0.013532,
     "end_time": "2023-08-08T08:00:00.834346",
     "exception": false,
     "start_time": "2023-08-08T08:00:00.820814",
     "status": "completed"
    },
    "tags": []
   },
   "source": [
    "Building ANN"
   ]
  },
  {
   "cell_type": "code",
   "execution_count": 24,
   "id": "48af3c7d",
   "metadata": {
    "execution": {
     "iopub.execute_input": "2023-08-08T08:00:00.864505Z",
     "iopub.status.busy": "2023-08-08T08:00:00.864103Z",
     "iopub.status.idle": "2023-08-08T08:00:11.531324Z",
     "shell.execute_reply": "2023-08-08T08:00:11.530064Z"
    },
    "papermill": {
     "duration": 10.685545,
     "end_time": "2023-08-08T08:00:11.534140",
     "exception": false,
     "start_time": "2023-08-08T08:00:00.848595",
     "status": "completed"
    },
    "tags": []
   },
   "outputs": [
    {
     "name": "stderr",
     "output_type": "stream",
     "text": [
      "/opt/conda/lib/python3.10/site-packages/tensorflow_io/python/ops/__init__.py:98: UserWarning: unable to load libtensorflow_io_plugins.so: unable to open file: libtensorflow_io_plugins.so, from paths: ['/opt/conda/lib/python3.10/site-packages/tensorflow_io/python/ops/libtensorflow_io_plugins.so']\n",
      "caused by: ['/opt/conda/lib/python3.10/site-packages/tensorflow_io/python/ops/libtensorflow_io_plugins.so: undefined symbol: _ZN3tsl6StatusC1EN10tensorflow5error4CodeESt17basic_string_viewIcSt11char_traitsIcEENS_14SourceLocationE']\n",
      "  warnings.warn(f\"unable to load libtensorflow_io_plugins.so: {e}\")\n",
      "/opt/conda/lib/python3.10/site-packages/tensorflow_io/python/ops/__init__.py:104: UserWarning: file system plugins are not loaded: unable to open file: libtensorflow_io.so, from paths: ['/opt/conda/lib/python3.10/site-packages/tensorflow_io/python/ops/libtensorflow_io.so']\n",
      "caused by: ['/opt/conda/lib/python3.10/site-packages/tensorflow_io/python/ops/libtensorflow_io.so: undefined symbol: _ZTVN10tensorflow13GcsFileSystemE']\n",
      "  warnings.warn(f\"file system plugins are not loaded: {e}\")\n"
     ]
    }
   ],
   "source": [
    "from tensorflow.keras.models import Sequential\n",
    "from keras.layers import Dense"
   ]
  },
  {
   "cell_type": "code",
   "execution_count": 25,
   "id": "206d2a73",
   "metadata": {
    "execution": {
     "iopub.execute_input": "2023-08-08T08:00:11.565497Z",
     "iopub.status.busy": "2023-08-08T08:00:11.564662Z",
     "iopub.status.idle": "2023-08-08T08:00:11.691689Z",
     "shell.execute_reply": "2023-08-08T08:00:11.690514Z"
    },
    "papermill": {
     "duration": 0.145476,
     "end_time": "2023-08-08T08:00:11.694475",
     "exception": false,
     "start_time": "2023-08-08T08:00:11.548999",
     "status": "completed"
    },
    "tags": []
   },
   "outputs": [],
   "source": [
    "classifier = Sequential()"
   ]
  },
  {
   "cell_type": "code",
   "execution_count": 26,
   "id": "fc53bf21",
   "metadata": {
    "execution": {
     "iopub.execute_input": "2023-08-08T08:00:11.724297Z",
     "iopub.status.busy": "2023-08-08T08:00:11.723885Z",
     "iopub.status.idle": "2023-08-08T08:00:11.799139Z",
     "shell.execute_reply": "2023-08-08T08:00:11.798090Z"
    },
    "papermill": {
     "duration": 0.093275,
     "end_time": "2023-08-08T08:00:11.801724",
     "exception": false,
     "start_time": "2023-08-08T08:00:11.708449",
     "status": "completed"
    },
    "tags": []
   },
   "outputs": [],
   "source": [
    "classifier.add(Dense(units=6,kernel_initializer='uniform', activation='relu',input_dim=11))"
   ]
  },
  {
   "cell_type": "code",
   "execution_count": 27,
   "id": "650b8f94",
   "metadata": {
    "execution": {
     "iopub.execute_input": "2023-08-08T08:00:11.832196Z",
     "iopub.status.busy": "2023-08-08T08:00:11.831468Z",
     "iopub.status.idle": "2023-08-08T08:00:11.853841Z",
     "shell.execute_reply": "2023-08-08T08:00:11.852591Z"
    },
    "papermill": {
     "duration": 0.040746,
     "end_time": "2023-08-08T08:00:11.856582",
     "exception": false,
     "start_time": "2023-08-08T08:00:11.815836",
     "status": "completed"
    },
    "tags": []
   },
   "outputs": [],
   "source": [
    "classifier.add(Dense(units=6,kernel_initializer='uniform', activation='relu'))"
   ]
  },
  {
   "cell_type": "code",
   "execution_count": 28,
   "id": "96b691a4",
   "metadata": {
    "execution": {
     "iopub.execute_input": "2023-08-08T08:00:11.886602Z",
     "iopub.status.busy": "2023-08-08T08:00:11.886185Z",
     "iopub.status.idle": "2023-08-08T08:00:11.908389Z",
     "shell.execute_reply": "2023-08-08T08:00:11.907453Z"
    },
    "papermill": {
     "duration": 0.040152,
     "end_time": "2023-08-08T08:00:11.910932",
     "exception": false,
     "start_time": "2023-08-08T08:00:11.870780",
     "status": "completed"
    },
    "tags": []
   },
   "outputs": [],
   "source": [
    "classifier.add(Dense(units=1,kernel_initializer='uniform', activation='sigmoid'))"
   ]
  },
  {
   "cell_type": "code",
   "execution_count": 29,
   "id": "7bde51aa",
   "metadata": {
    "execution": {
     "iopub.execute_input": "2023-08-08T08:00:11.941108Z",
     "iopub.status.busy": "2023-08-08T08:00:11.940467Z",
     "iopub.status.idle": "2023-08-08T08:00:11.962762Z",
     "shell.execute_reply": "2023-08-08T08:00:11.961429Z"
    },
    "papermill": {
     "duration": 0.040508,
     "end_time": "2023-08-08T08:00:11.965580",
     "exception": false,
     "start_time": "2023-08-08T08:00:11.925072",
     "status": "completed"
    },
    "tags": []
   },
   "outputs": [],
   "source": [
    "classifier.compile(optimizer='adam', loss='binary_crossentropy', metrics=['accuracy'])"
   ]
  },
  {
   "cell_type": "code",
   "execution_count": 30,
   "id": "052978de",
   "metadata": {
    "execution": {
     "iopub.execute_input": "2023-08-08T08:00:11.997271Z",
     "iopub.status.busy": "2023-08-08T08:00:11.996795Z",
     "iopub.status.idle": "2023-08-08T08:02:47.911511Z",
     "shell.execute_reply": "2023-08-08T08:02:47.910339Z"
    },
    "papermill": {
     "duration": 155.933601,
     "end_time": "2023-08-08T08:02:47.914093",
     "exception": false,
     "start_time": "2023-08-08T08:00:11.980492",
     "status": "completed"
    },
    "tags": []
   },
   "outputs": [
    {
     "name": "stdout",
     "output_type": "stream",
     "text": [
      "Epoch 1/100\n",
      "800/800 [==============================] - 2s 2ms/step - loss: 0.4823 - accuracy: 0.7952\n",
      "Epoch 2/100\n",
      "800/800 [==============================] - 1s 2ms/step - loss: 0.4298 - accuracy: 0.7960\n",
      "Epoch 3/100\n",
      "800/800 [==============================] - 1s 2ms/step - loss: 0.4254 - accuracy: 0.7960\n",
      "Epoch 4/100\n",
      "800/800 [==============================] - 1s 2ms/step - loss: 0.4200 - accuracy: 0.8139\n",
      "Epoch 5/100\n",
      "800/800 [==============================] - 2s 2ms/step - loss: 0.4168 - accuracy: 0.8257\n",
      "Epoch 6/100\n",
      "800/800 [==============================] - 1s 2ms/step - loss: 0.4147 - accuracy: 0.8296\n",
      "Epoch 7/100\n",
      "800/800 [==============================] - 1s 2ms/step - loss: 0.4128 - accuracy: 0.8300\n",
      "Epoch 8/100\n",
      "800/800 [==============================] - 1s 2ms/step - loss: 0.4118 - accuracy: 0.8315\n",
      "Epoch 9/100\n",
      "800/800 [==============================] - 2s 2ms/step - loss: 0.4105 - accuracy: 0.8325\n",
      "Epoch 10/100\n",
      "800/800 [==============================] - 2s 2ms/step - loss: 0.4097 - accuracy: 0.8340\n",
      "Epoch 11/100\n",
      "800/800 [==============================] - 1s 2ms/step - loss: 0.4084 - accuracy: 0.8342\n",
      "Epoch 12/100\n",
      "800/800 [==============================] - 2s 2ms/step - loss: 0.4082 - accuracy: 0.8341\n",
      "Epoch 13/100\n",
      "800/800 [==============================] - 2s 2ms/step - loss: 0.4071 - accuracy: 0.8353\n",
      "Epoch 14/100\n",
      "800/800 [==============================] - 1s 2ms/step - loss: 0.4071 - accuracy: 0.8345\n",
      "Epoch 15/100\n",
      "800/800 [==============================] - 1s 2ms/step - loss: 0.4062 - accuracy: 0.8349\n",
      "Epoch 16/100\n",
      "800/800 [==============================] - 2s 2ms/step - loss: 0.4056 - accuracy: 0.8335\n",
      "Epoch 17/100\n",
      "800/800 [==============================] - 2s 2ms/step - loss: 0.4055 - accuracy: 0.8367\n",
      "Epoch 18/100\n",
      "800/800 [==============================] - 2s 2ms/step - loss: 0.4045 - accuracy: 0.8364\n",
      "Epoch 19/100\n",
      "800/800 [==============================] - 2s 2ms/step - loss: 0.4037 - accuracy: 0.8367\n",
      "Epoch 20/100\n",
      "800/800 [==============================] - 2s 2ms/step - loss: 0.4036 - accuracy: 0.8359\n",
      "Epoch 21/100\n",
      "800/800 [==============================] - 2s 2ms/step - loss: 0.4033 - accuracy: 0.8359\n",
      "Epoch 22/100\n",
      "800/800 [==============================] - 2s 2ms/step - loss: 0.4032 - accuracy: 0.8350\n",
      "Epoch 23/100\n",
      "800/800 [==============================] - 2s 2ms/step - loss: 0.4027 - accuracy: 0.8330\n",
      "Epoch 24/100\n",
      "800/800 [==============================] - 2s 2ms/step - loss: 0.4015 - accuracy: 0.8361\n",
      "Epoch 25/100\n",
      "800/800 [==============================] - 2s 2ms/step - loss: 0.4009 - accuracy: 0.8363\n",
      "Epoch 26/100\n",
      "800/800 [==============================] - 2s 2ms/step - loss: 0.4002 - accuracy: 0.8365\n",
      "Epoch 27/100\n",
      "800/800 [==============================] - 1s 2ms/step - loss: 0.3994 - accuracy: 0.8347\n",
      "Epoch 28/100\n",
      "800/800 [==============================] - 2s 2ms/step - loss: 0.3988 - accuracy: 0.8375\n",
      "Epoch 29/100\n",
      "800/800 [==============================] - 2s 2ms/step - loss: 0.3984 - accuracy: 0.8364\n",
      "Epoch 30/100\n",
      "800/800 [==============================] - 2s 2ms/step - loss: 0.3979 - accuracy: 0.8376\n",
      "Epoch 31/100\n",
      "800/800 [==============================] - 2s 2ms/step - loss: 0.3970 - accuracy: 0.8381\n",
      "Epoch 32/100\n",
      "800/800 [==============================] - 2s 2ms/step - loss: 0.3974 - accuracy: 0.8361\n",
      "Epoch 33/100\n",
      "800/800 [==============================] - 2s 2ms/step - loss: 0.3966 - accuracy: 0.8366\n",
      "Epoch 34/100\n",
      "800/800 [==============================] - 2s 2ms/step - loss: 0.3966 - accuracy: 0.8370\n",
      "Epoch 35/100\n",
      "800/800 [==============================] - 2s 2ms/step - loss: 0.3957 - accuracy: 0.8364\n",
      "Epoch 36/100\n",
      "800/800 [==============================] - 2s 2ms/step - loss: 0.3958 - accuracy: 0.8372\n",
      "Epoch 37/100\n",
      "800/800 [==============================] - 2s 2ms/step - loss: 0.3956 - accuracy: 0.8372\n",
      "Epoch 38/100\n",
      "800/800 [==============================] - 2s 2ms/step - loss: 0.3955 - accuracy: 0.8349\n",
      "Epoch 39/100\n",
      "800/800 [==============================] - 2s 2ms/step - loss: 0.3952 - accuracy: 0.8385\n",
      "Epoch 40/100\n",
      "800/800 [==============================] - 2s 2ms/step - loss: 0.3951 - accuracy: 0.8370\n",
      "Epoch 41/100\n",
      "800/800 [==============================] - 2s 2ms/step - loss: 0.3949 - accuracy: 0.8391\n",
      "Epoch 42/100\n",
      "800/800 [==============================] - 2s 2ms/step - loss: 0.3948 - accuracy: 0.8381\n",
      "Epoch 43/100\n",
      "800/800 [==============================] - 2s 2ms/step - loss: 0.3943 - accuracy: 0.8371\n",
      "Epoch 44/100\n",
      "800/800 [==============================] - 2s 2ms/step - loss: 0.3937 - accuracy: 0.8369\n",
      "Epoch 45/100\n",
      "800/800 [==============================] - 2s 2ms/step - loss: 0.3946 - accuracy: 0.8371\n",
      "Epoch 46/100\n",
      "800/800 [==============================] - 2s 2ms/step - loss: 0.3942 - accuracy: 0.8367\n",
      "Epoch 47/100\n",
      "800/800 [==============================] - 2s 2ms/step - loss: 0.3938 - accuracy: 0.8371\n",
      "Epoch 48/100\n",
      "800/800 [==============================] - 2s 2ms/step - loss: 0.3932 - accuracy: 0.8371\n",
      "Epoch 49/100\n",
      "800/800 [==============================] - 2s 2ms/step - loss: 0.3943 - accuracy: 0.8380\n",
      "Epoch 50/100\n",
      "800/800 [==============================] - 2s 2ms/step - loss: 0.3943 - accuracy: 0.8371\n",
      "Epoch 51/100\n",
      "800/800 [==============================] - 2s 2ms/step - loss: 0.3938 - accuracy: 0.8378\n",
      "Epoch 52/100\n",
      "800/800 [==============================] - 2s 2ms/step - loss: 0.3937 - accuracy: 0.8364\n",
      "Epoch 53/100\n",
      "800/800 [==============================] - 2s 2ms/step - loss: 0.3936 - accuracy: 0.8371\n",
      "Epoch 54/100\n",
      "800/800 [==============================] - 2s 2ms/step - loss: 0.3936 - accuracy: 0.8380\n",
      "Epoch 55/100\n",
      "800/800 [==============================] - 2s 2ms/step - loss: 0.3938 - accuracy: 0.8359\n",
      "Epoch 56/100\n",
      "800/800 [==============================] - 2s 2ms/step - loss: 0.3935 - accuracy: 0.8353\n",
      "Epoch 57/100\n",
      "800/800 [==============================] - 2s 2ms/step - loss: 0.3925 - accuracy: 0.8365\n",
      "Epoch 58/100\n",
      "800/800 [==============================] - 2s 2ms/step - loss: 0.3942 - accuracy: 0.8379\n",
      "Epoch 59/100\n",
      "800/800 [==============================] - 2s 2ms/step - loss: 0.3929 - accuracy: 0.8369\n",
      "Epoch 60/100\n",
      "800/800 [==============================] - 2s 2ms/step - loss: 0.3934 - accuracy: 0.8380\n",
      "Epoch 61/100\n",
      "800/800 [==============================] - 2s 2ms/step - loss: 0.3935 - accuracy: 0.8376\n",
      "Epoch 62/100\n",
      "800/800 [==============================] - 2s 2ms/step - loss: 0.3928 - accuracy: 0.8393\n",
      "Epoch 63/100\n",
      "800/800 [==============================] - 1s 2ms/step - loss: 0.3930 - accuracy: 0.8388\n",
      "Epoch 64/100\n",
      "800/800 [==============================] - 2s 2ms/step - loss: 0.3929 - accuracy: 0.8379\n",
      "Epoch 65/100\n",
      "800/800 [==============================] - 2s 2ms/step - loss: 0.3929 - accuracy: 0.8393\n",
      "Epoch 66/100\n",
      "800/800 [==============================] - 2s 2ms/step - loss: 0.3930 - accuracy: 0.8372\n",
      "Epoch 67/100\n",
      "800/800 [==============================] - 1s 2ms/step - loss: 0.3927 - accuracy: 0.8391\n",
      "Epoch 68/100\n",
      "800/800 [==============================] - 2s 2ms/step - loss: 0.3930 - accuracy: 0.8367\n",
      "Epoch 69/100\n",
      "800/800 [==============================] - 2s 2ms/step - loss: 0.3926 - accuracy: 0.8381\n",
      "Epoch 70/100\n",
      "800/800 [==============================] - 1s 2ms/step - loss: 0.3928 - accuracy: 0.8376\n",
      "Epoch 71/100\n",
      "800/800 [==============================] - 1s 2ms/step - loss: 0.3924 - accuracy: 0.8381\n",
      "Epoch 72/100\n",
      "800/800 [==============================] - 1s 2ms/step - loss: 0.3931 - accuracy: 0.8359\n",
      "Epoch 73/100\n",
      "800/800 [==============================] - 1s 2ms/step - loss: 0.3926 - accuracy: 0.8391\n",
      "Epoch 74/100\n",
      "800/800 [==============================] - 1s 2ms/step - loss: 0.3924 - accuracy: 0.8382\n",
      "Epoch 75/100\n",
      "800/800 [==============================] - 1s 2ms/step - loss: 0.3925 - accuracy: 0.8371\n",
      "Epoch 76/100\n",
      "800/800 [==============================] - 1s 2ms/step - loss: 0.3925 - accuracy: 0.8394\n",
      "Epoch 77/100\n",
      "800/800 [==============================] - 1s 2ms/step - loss: 0.3921 - accuracy: 0.8388\n",
      "Epoch 78/100\n",
      "800/800 [==============================] - 1s 2ms/step - loss: 0.3921 - accuracy: 0.8376\n",
      "Epoch 79/100\n",
      "800/800 [==============================] - 1s 2ms/step - loss: 0.3917 - accuracy: 0.8393\n",
      "Epoch 80/100\n",
      "800/800 [==============================] - 1s 2ms/step - loss: 0.3922 - accuracy: 0.8384\n",
      "Epoch 81/100\n",
      "800/800 [==============================] - 1s 2ms/step - loss: 0.3922 - accuracy: 0.8379\n",
      "Epoch 82/100\n",
      "800/800 [==============================] - 1s 2ms/step - loss: 0.3919 - accuracy: 0.8371\n",
      "Epoch 83/100\n",
      "800/800 [==============================] - 1s 2ms/step - loss: 0.3916 - accuracy: 0.8390\n",
      "Epoch 84/100\n",
      "800/800 [==============================] - 1s 2ms/step - loss: 0.3907 - accuracy: 0.8388\n",
      "Epoch 85/100\n",
      "800/800 [==============================] - 1s 2ms/step - loss: 0.3906 - accuracy: 0.8385\n",
      "Epoch 86/100\n",
      "800/800 [==============================] - 1s 2ms/step - loss: 0.3898 - accuracy: 0.8401\n",
      "Epoch 87/100\n",
      "800/800 [==============================] - 1s 2ms/step - loss: 0.3885 - accuracy: 0.8388\n",
      "Epoch 88/100\n",
      "800/800 [==============================] - 1s 2ms/step - loss: 0.3867 - accuracy: 0.8381\n",
      "Epoch 89/100\n",
      "800/800 [==============================] - 1s 2ms/step - loss: 0.3845 - accuracy: 0.8419\n",
      "Epoch 90/100\n",
      "800/800 [==============================] - 1s 2ms/step - loss: 0.3804 - accuracy: 0.8426\n",
      "Epoch 91/100\n",
      "800/800 [==============================] - 1s 2ms/step - loss: 0.3749 - accuracy: 0.8435\n",
      "Epoch 92/100\n",
      "800/800 [==============================] - 1s 2ms/step - loss: 0.3697 - accuracy: 0.8465\n",
      "Epoch 93/100\n",
      "800/800 [==============================] - 1s 2ms/step - loss: 0.3638 - accuracy: 0.8487\n",
      "Epoch 94/100\n",
      "800/800 [==============================] - 1s 2ms/step - loss: 0.3593 - accuracy: 0.8535\n",
      "Epoch 95/100\n",
      "800/800 [==============================] - 1s 2ms/step - loss: 0.3560 - accuracy: 0.8554\n",
      "Epoch 96/100\n",
      "800/800 [==============================] - 2s 2ms/step - loss: 0.3528 - accuracy: 0.8560\n",
      "Epoch 97/100\n",
      "800/800 [==============================] - 2s 2ms/step - loss: 0.3509 - accuracy: 0.8595\n",
      "Epoch 98/100\n",
      "800/800 [==============================] - 2s 2ms/step - loss: 0.3492 - accuracy: 0.8616\n",
      "Epoch 99/100\n",
      "800/800 [==============================] - 2s 2ms/step - loss: 0.3480 - accuracy: 0.8579\n",
      "Epoch 100/100\n",
      "800/800 [==============================] - 2s 2ms/step - loss: 0.3469 - accuracy: 0.8622\n"
     ]
    },
    {
     "data": {
      "text/plain": [
       "<keras.callbacks.History at 0x7a6e1750f790>"
      ]
     },
     "execution_count": 30,
     "metadata": {},
     "output_type": "execute_result"
    }
   ],
   "source": [
    "classifier.fit(x_train,y_train,batch_size=10,epochs=100)"
   ]
  },
  {
   "cell_type": "code",
   "execution_count": 31,
   "id": "84edc32f",
   "metadata": {
    "execution": {
     "iopub.execute_input": "2023-08-08T08:02:48.575595Z",
     "iopub.status.busy": "2023-08-08T08:02:48.574976Z",
     "iopub.status.idle": "2023-08-08T08:02:48.902985Z",
     "shell.execute_reply": "2023-08-08T08:02:48.901314Z"
    },
    "papermill": {
     "duration": 0.663453,
     "end_time": "2023-08-08T08:02:48.905768",
     "exception": false,
     "start_time": "2023-08-08T08:02:48.242315",
     "status": "completed"
    },
    "tags": []
   },
   "outputs": [
    {
     "name": "stdout",
     "output_type": "stream",
     "text": [
      "63/63 [==============================] - 0s 1ms/step\n"
     ]
    }
   ],
   "source": [
    "y_pred=classifier.predict(x_test)\n",
    "y_pred=(y_pred>0.5)"
   ]
  },
  {
   "cell_type": "code",
   "execution_count": 32,
   "id": "2b93cd91",
   "metadata": {
    "execution": {
     "iopub.execute_input": "2023-08-08T08:02:49.630618Z",
     "iopub.status.busy": "2023-08-08T08:02:49.630139Z",
     "iopub.status.idle": "2023-08-08T08:02:49.636288Z",
     "shell.execute_reply": "2023-08-08T08:02:49.635285Z"
    },
    "papermill": {
     "duration": 0.338209,
     "end_time": "2023-08-08T08:02:49.638683",
     "exception": false,
     "start_time": "2023-08-08T08:02:49.300474",
     "status": "completed"
    },
    "tags": []
   },
   "outputs": [
    {
     "name": "stdout",
     "output_type": "stream",
     "text": [
      "[[False]\n",
      " [False]\n",
      " [False]\n",
      " ...\n",
      " [False]\n",
      " [False]\n",
      " [False]]\n"
     ]
    }
   ],
   "source": [
    "print(y_pred)"
   ]
  },
  {
   "cell_type": "code",
   "execution_count": 33,
   "id": "032a7c6c",
   "metadata": {
    "execution": {
     "iopub.execute_input": "2023-08-08T08:02:50.294073Z",
     "iopub.status.busy": "2023-08-08T08:02:50.292839Z",
     "iopub.status.idle": "2023-08-08T08:02:50.301574Z",
     "shell.execute_reply": "2023-08-08T08:02:50.300353Z"
    },
    "papermill": {
     "duration": 0.338031,
     "end_time": "2023-08-08T08:02:50.304604",
     "exception": false,
     "start_time": "2023-08-08T08:02:49.966573",
     "status": "completed"
    },
    "tags": []
   },
   "outputs": [],
   "source": [
    "from sklearn.metrics import confusion_matrix, accuracy_score\n",
    "cm=confusion_matrix(y_test,y_pred)"
   ]
  },
  {
   "cell_type": "code",
   "execution_count": 34,
   "id": "6639d6a8",
   "metadata": {
    "execution": {
     "iopub.execute_input": "2023-08-08T08:02:50.947819Z",
     "iopub.status.busy": "2023-08-08T08:02:50.946167Z",
     "iopub.status.idle": "2023-08-08T08:02:50.956234Z",
     "shell.execute_reply": "2023-08-08T08:02:50.954154Z"
    },
    "papermill": {
     "duration": 0.334559,
     "end_time": "2023-08-08T08:02:50.959298",
     "exception": false,
     "start_time": "2023-08-08T08:02:50.624739",
     "status": "completed"
    },
    "tags": []
   },
   "outputs": [
    {
     "name": "stdout",
     "output_type": "stream",
     "text": [
      "[[1512   83]\n",
      " [ 197  208]]\n"
     ]
    }
   ],
   "source": [
    "print(cm)"
   ]
  },
  {
   "cell_type": "code",
   "execution_count": 35,
   "id": "48a90a56",
   "metadata": {
    "execution": {
     "iopub.execute_input": "2023-08-08T08:02:51.608585Z",
     "iopub.status.busy": "2023-08-08T08:02:51.608031Z",
     "iopub.status.idle": "2023-08-08T08:02:51.621345Z",
     "shell.execute_reply": "2023-08-08T08:02:51.620141Z"
    },
    "papermill": {
     "duration": 0.331791,
     "end_time": "2023-08-08T08:02:51.623562",
     "exception": false,
     "start_time": "2023-08-08T08:02:51.291771",
     "status": "completed"
    },
    "tags": []
   },
   "outputs": [
    {
     "data": {
      "text/plain": [
       "0.86"
      ]
     },
     "execution_count": 35,
     "metadata": {},
     "output_type": "execute_result"
    }
   ],
   "source": [
    "accuracy_score(y_test,y_pred)"
   ]
  },
  {
   "cell_type": "code",
   "execution_count": null,
   "id": "b92bcf4c",
   "metadata": {
    "papermill": {
     "duration": 0.319019,
     "end_time": "2023-08-08T08:02:52.258328",
     "exception": false,
     "start_time": "2023-08-08T08:02:51.939309",
     "status": "completed"
    },
    "tags": []
   },
   "outputs": [],
   "source": []
  }
 ],
 "metadata": {
  "kernelspec": {
   "display_name": "Python 3",
   "language": "python",
   "name": "python3"
  },
  "language_info": {
   "codemirror_mode": {
    "name": "ipython",
    "version": 3
   },
   "file_extension": ".py",
   "mimetype": "text/x-python",
   "name": "python",
   "nbconvert_exporter": "python",
   "pygments_lexer": "ipython3",
   "version": "3.10.12"
  },
  "papermill": {
   "default_parameters": {},
   "duration": 190.001726,
   "end_time": "2023-08-08T08:02:55.382131",
   "environment_variables": {},
   "exception": null,
   "input_path": "__notebook__.ipynb",
   "output_path": "__notebook__.ipynb",
   "parameters": {},
   "start_time": "2023-08-08T07:59:45.380405",
   "version": "2.4.0"
  }
 },
 "nbformat": 4,
 "nbformat_minor": 5
}
